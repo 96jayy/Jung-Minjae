{
  "nbformat": 4,
  "nbformat_minor": 0,
  "metadata": {
    "colab": {
      "private_outputs": true,
      "provenance": [],
      "mount_file_id": "1O1jHTlFqHHuS4FCXaDD_F2f54KSGlyXC",
      "authorship_tag": "ABX9TyMZOkL9sm6nkjApmvpeUJLd",
      "include_colab_link": true
    },
    "kernelspec": {
      "name": "ir",
      "display_name": "R"
    },
    "language_info": {
      "name": "R"
    }
  },
  "cells": [
    {
      "cell_type": "markdown",
      "metadata": {
        "id": "view-in-github",
        "colab_type": "text"
      },
      "source": [
        "<a href=\"https://colab.research.google.com/github/96jayy/Jung-Minjae/blob/main/Untitled1.ipynb\" target=\"_parent\"><img src=\"https://colab.research.google.com/assets/colab-badge.svg\" alt=\"Open In Colab\"/></a>"
      ]
    },
    {
      "cell_type": "code",
      "source": [
        "system(\"gdown --id 1E-yvYanf199ZzckfhVNOsuHUEXj2MNyK\")"
      ],
      "metadata": {
        "id": "gFtOOgcfA3MK"
      },
      "execution_count": null,
      "outputs": []
    },
    {
      "cell_type": "code",
      "source": [
        "read.table(\"코드.txt\")"
      ],
      "metadata": {
        "id": "vy-EqahNFAZa"
      },
      "execution_count": null,
      "outputs": []
    }
  ]
}
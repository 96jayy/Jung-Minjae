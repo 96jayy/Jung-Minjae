{
  "nbformat": 4,
  "nbformat_minor": 0,
  "metadata": {
    "colab": {
      "private_outputs": true,
      "provenance": [],
      "mount_file_id": "1ICZkLp_21Gg2IHJ2tfWmVa8eZdpCKMCH",
      "authorship_tag": "ABX9TyOFgfNGCPP/MUIsppU/Oyh1",
      "include_colab_link": true
    },
    "kernelspec": {
      "name": "python3",
      "display_name": "Python 3"
    },
    "language_info": {
      "name": "python"
    }
  },
  "cells": [
    {
      "cell_type": "markdown",
      "metadata": {
        "id": "view-in-github",
        "colab_type": "text"
      },
      "source": [
        "<a href=\"https://colab.research.google.com/github/96jayy/Jung-Minjae/blob/dacon/%EB%8C%80%EA%B5%AC%EA%B5%90%ED%86%B5%EC%82%AC%EA%B3%A0%EC%98%88%EC%B8%A1_AutoML.ipynb\" target=\"_parent\"><img src=\"https://colab.research.google.com/assets/colab-badge.svg\" alt=\"Open In Colab\"/></a>"
      ]
    },
    {
      "cell_type": "code",
      "execution_count": null,
      "metadata": {
        "id": "2LaPRc3lKlL0"
      },
      "outputs": [],
      "source": [
        "!pip install catboost\n",
        "import warnings\n",
        "warnings.filterwarnings('ignore')\n",
        "import pandas as pd\n",
        "import numpy as np\n",
        "from catboost import CatBoostRegressor, Pool"
      ]
    },
    {
      "cell_type": "code",
      "source": [
        "train_org = pd.read_csv('/content/drive/MyDrive/dacon/daegu/train.csv').drop(columns='ID')\n",
        "test_org = pd.read_csv('/content/drive/MyDrive/dacon/daegu/test.csv').drop(columns='ID')"
      ],
      "metadata": {
        "id": "vB7RIPIXKlzJ"
      },
      "execution_count": null,
      "outputs": []
    },
    {
      "cell_type": "code",
      "source": [
        "train_df = train_org.copy()\n",
        "test_df = test_org.copy()\n",
        "\n",
        "time_pattern = r'(\\d{4})-(\\d{1,2})-(\\d{1,2}) (\\d{1,2})'\n",
        "\n",
        "train_df[['연', '월', '일', '시간']] = train_org['사고일시'].str.extract(time_pattern)\n",
        "train_df[['연', '월', '일', '시간']] = train_df[['연', '월', '일', '시간']].apply(pd.to_numeric) # 추출된 문자열을 수치화해줍니다\n",
        "train_df = train_df.drop(columns=['사고일시']) # 정보 추출이 완료된 '사고일시' 컬럼은 제거합니다\n",
        "\n",
        "# 해당 과정을 test_x에 대해서도 반복해줍니다\n",
        "test_df[['연', '월', '일', '시간']] = test_org['사고일시'].str.extract(time_pattern)\n",
        "test_df[['연', '월', '일', '시간']] = test_df[['연', '월', '일', '시간']].apply(pd.to_numeric)\n",
        "test_df = test_df.drop(columns=['사고일시'])\n",
        "\n",
        "location_pattern = r'(\\S+) (\\S+) (\\S+)'\n",
        "\n",
        "train_df[['도시', '구', '동']] = train_org['시군구'].str.extract(location_pattern)\n",
        "train_df = train_df.drop(columns=['시군구'])\n",
        "\n",
        "test_df[['도시', '구', '동']] = test_org['시군구'].str.extract(location_pattern)\n",
        "test_df = test_df.drop(columns=['시군구'])\n",
        "\n",
        "road_pattern = r'(.+) - (.+)'\n",
        "\n",
        "train_df[['도로형태1', '도로형태2']] = train_org['도로형태'].str.extract(road_pattern)\n",
        "train_df = train_df.drop(columns=['도로형태'])\n",
        "\n",
        "test_df[['도로형태1', '도로형태2']] = test_org['도로형태'].str.extract(road_pattern)\n",
        "test_df = test_df.drop(columns=['도로형태'])\n",
        "\n",
        "display(f\"columns of train_df : {train_df.columns}\")\n",
        "display(f\"columns of test_df : {test_df.columns}\")"
      ],
      "metadata": {
        "id": "D6k9I741LJfc"
      },
      "execution_count": null,
      "outputs": []
    },
    {
      "cell_type": "code",
      "source": [
        "test_x = test_df\n",
        "train_x = train_df[test_x.columns].copy()\n",
        "train_y = train_df['ECLO'].copy()"
      ],
      "metadata": {
        "id": "eXLAM_JbLSjx"
      },
      "execution_count": null,
      "outputs": []
    },
    {
      "cell_type": "code",
      "source": [
        "train_x"
      ],
      "metadata": {
        "id": "fVwIuXgVLFz9"
      },
      "execution_count": null,
      "outputs": []
    },
    {
      "cell_type": "code",
      "source": [
        "from pycaret.regression import *"
      ],
      "metadata": {
        "id": "Z7HtfeNTLdeQ"
      },
      "execution_count": null,
      "outputs": []
    },
    {
      "cell_type": "code",
      "source": [
        "reg_experiment = setup(train, target='ECLO', session_id=42)\n",
        "\n",
        "# 최적의 모델 찾기 (RMSLE를 성능 지표로 사용)\n",
        "best_model = compare_models(fold=5, sort='RMSLE', n_select=1)\n",
        "\n",
        "# CatBoost 모델 학습\n",
        "catboost_model = create_model('catboost', fold=5)\n",
        "\n",
        "# 앙상블 모델 구성"
      ],
      "metadata": {
        "id": "0m3lq1pwQkYE"
      },
      "execution_count": null,
      "outputs": []
    },
    {
      "cell_type": "code",
      "source": [
        "ensemble_model = blend_models(estimator_list=[best_model, catboost_model])"
      ],
      "metadata": {
        "id": "3V8UsoqsUxRY"
      },
      "execution_count": null,
      "outputs": []
    },
    {
      "cell_type": "code",
      "source": [
        "predictions = predict_model(ensemble_model, test_x)"
      ],
      "metadata": {
        "id": "Ra2apBvSR-nJ"
      },
      "execution_count": null,
      "outputs": []
    },
    {
      "cell_type": "code",
      "source": [
        "predictions['prediction_label']"
      ],
      "metadata": {
        "id": "6efQIx4gXYiH"
      },
      "execution_count": null,
      "outputs": []
    },
    {
      "cell_type": "code",
      "source": [
        "ss=pd.read_csv('/content/drive/MyDrive/dacon/daegu/sample_submission.csv')\n",
        "ss['ECLO']=predictions['prediction_label']"
      ],
      "metadata": {
        "id": "h585i3DEXcHW"
      },
      "execution_count": null,
      "outputs": []
    },
    {
      "cell_type": "code",
      "source": [
        "ss.to_csv('/content/drive/MyDrive/dacon/daegu/sub9.csv',index=False)"
      ],
      "metadata": {
        "id": "At8aXkxEXhZ2"
      },
      "execution_count": null,
      "outputs": []
    },
    {
      "cell_type": "code",
      "source": [
        "light_df = pd.read_csv('/content/drive/MyDrive/dacon/daegu/대구 보안등 정보.csv', encoding='cp949')[['설치개수', '소재지지번주소']]\n",
        "\n",
        "location_pattern = r'(\\S+) (\\S+) (\\S+) (\\S+)'\n",
        "#공백으로 구분된 네 개의 비공백 문자열을 찾음\n",
        "\n",
        "light_df[['도시', '구', '동', '번지']] = light_df['소재지지번주소'].str.extract(location_pattern)\n",
        "light_df = light_df.drop(columns=['소재지지번주소', '번지'])\n",
        "\n",
        "light_df = light_df.groupby(['도시', '구', '동']).sum().reset_index()\n",
        "#도시, 구, 동 열을 기준으로 데이터를 그룹화 함.\n",
        "#sum()을 해주는 이유는 각 데이터의 도시, 구, 동에 대한 보안등의 개수 합\n",
        "light_df.reset_index(inplace=True, drop=True)\n",
        "#reset_index(): 데이터프레임의 인덱스 초기화."
      ],
      "metadata": {
        "id": "ZV1-9C0_XsK_"
      },
      "execution_count": null,
      "outputs": []
    },
    {
      "cell_type": "code",
      "source": [
        "child_area_df = pd.read_csv('/content/drive/MyDrive/dacon/daegu/대구 어린이 보호 구역 정보.csv', encoding='cp949')[['소재지지번주소']]\n",
        "#중복된 값이 있으면 값이 겹칠 수 있으니 미리 중복 제거\n",
        "child_area_df['School Zone'] = 1\n",
        "\n",
        "location_pattern = r'(\\S+) (\\S+) (\\S+) (\\S+)'\n",
        "\n",
        "child_area_df[['도시', '구', '동', '번지']] = child_area_df['소재지지번주소'].str.extract(location_pattern)\n",
        "child_area_df = child_area_df.drop(columns=['소재지지번주소', '번지'])\n",
        "\n",
        "child_area_df = child_area_df.groupby(['도시', '구', '동']).sum().reset_index()\n",
        "child_area_df.reset_index(inplace=True, drop=True)"
      ],
      "metadata": {
        "id": "ZjPLPcM3Z-20"
      },
      "execution_count": null,
      "outputs": []
    },
    {
      "cell_type": "code",
      "source": [
        "parking_df = pd.read_csv('/content/drive/MyDrive/dacon/daegu/대구 주차장 정보.csv', encoding='cp949')[['소재지지번주소', '급지구분']]\n",
        "parking_df = pd.get_dummies(parking_df, columns=['급지구분'])\n",
        "#parking_df값들을 one_hot encoding으로 진행\n",
        "\n",
        "location_pattern = r'(\\S+) (\\S+) (\\S+) (\\S+)'\n",
        "\n",
        "parking_df[['도시', '구', '동', '번지']] = parking_df['소재지지번주소'].str.extract(location_pattern)\n",
        "parking_df = parking_df.drop(columns=['소재지지번주소', '번지'])\n",
        "\n",
        "parking_df = parking_df.groupby(['도시', '구', '동']).sum().reset_index()\n",
        "parking_df.reset_index(inplace=True, drop=True)"
      ],
      "metadata": {
        "id": "BH9gkwjsaFDD"
      },
      "execution_count": null,
      "outputs": []
    },
    {
      "cell_type": "code",
      "source": [
        "train_df = pd.merge(train_df, light_df, how='left', on=['도시', '구', '동'])\n",
        "train_df = pd.merge(train_df, child_area_df, how='left', on=['도시', '구', '동'])\n",
        "train_df = pd.merge(train_df, parking_df, how='left', on=['도시', '구', '동'])\n",
        "\n",
        "test_df = pd.merge(test_df, light_df, how='left', on=['도시', '구', '동'])\n",
        "test_df = pd.merge(test_df, child_area_df, how='left', on=['도시', '구', '동'])\n",
        "test_df = pd.merge(test_df, parking_df, how='left', on=['도시', '구', '동'])"
      ],
      "metadata": {
        "id": "TgKxhjswaJtT"
      },
      "execution_count": null,
      "outputs": []
    },
    {
      "cell_type": "code",
      "source": [
        "train_df=train_df.fillna(0)\n",
        "test_df=test_df.fillna(0)"
      ],
      "metadata": {
        "id": "MIRlogx0aRZS"
      },
      "execution_count": null,
      "outputs": []
    },
    {
      "cell_type": "code",
      "source": [
        "test_x = test_df #column ID열 제거하고 붙여넣기\n",
        "train_x = train_df[test_x.columns].copy() #test.columns 값만 넣기\n",
        "train_y = train_df['ECLO'].copy()"
      ],
      "metadata": {
        "id": "YCrsj8VzaSSz"
      },
      "execution_count": null,
      "outputs": []
    },
    {
      "cell_type": "code",
      "source": [
        "train_x=train_x.drop('도시',axis=1)\n",
        "test_x=test_x.drop('도시',axis=1)"
      ],
      "metadata": {
        "id": "L7WO5UkkadL7"
      },
      "execution_count": null,
      "outputs": []
    },
    {
      "cell_type": "code",
      "source": [
        "train=pd.concat([train_x,train_y],axis=1)"
      ],
      "metadata": {
        "id": "3mZuDGqNjBVP"
      },
      "execution_count": null,
      "outputs": []
    },
    {
      "cell_type": "code",
      "source": [
        "reg_experiment = setup(train, target='ECLO', session_id=42)\n",
        "\n",
        "# 최적의 모델 찾기 (RMSLE를 성능 지표로 사용)\n",
        "catboost_model = create_model('catboost', fold=5)\n",
        "best_model = compare_models(fold=5, sort='RMSLE', n_select=1)\n",
        "\n",
        "\n",
        "# 앙상블 모델 구성"
      ],
      "metadata": {
        "id": "NsZJC9sdakXK"
      },
      "execution_count": null,
      "outputs": []
    },
    {
      "cell_type": "code",
      "source": [
        "tuned_model=tune_model(best_model)"
      ],
      "metadata": {
        "id": "A0G5tD6mavzq"
      },
      "execution_count": null,
      "outputs": []
    },
    {
      "cell_type": "code",
      "source": [
        "ensemble_model = blend_models(estimator_list=[tuned_model, catboost_model])"
      ],
      "metadata": {
        "id": "xTUytfb6fzUg"
      },
      "execution_count": null,
      "outputs": []
    },
    {
      "cell_type": "code",
      "source": [
        "predict=predict_model(ensemble_model,test_x)\n",
        "predict.head()"
      ],
      "metadata": {
        "id": "AySm0iTDh2Ns"
      },
      "execution_count": null,
      "outputs": []
    },
    {
      "cell_type": "code",
      "source": [
        "ss=pd.read_csv('/content/drive/MyDrive/dacon/daegu/sample_submission.csv')\n",
        "ss['ECLO']=predict['prediction_label']"
      ],
      "metadata": {
        "id": "N5KLXJF0iyBy"
      },
      "execution_count": null,
      "outputs": []
    },
    {
      "cell_type": "code",
      "source": [
        "ss.to_csv('/content/drive/MyDrive/dacon/daegu/sub10.csv',index=False)"
      ],
      "metadata": {
        "id": "SBuJGS-SnSnc"
      },
      "execution_count": null,
      "outputs": []
    },
    {
      "cell_type": "code",
      "source": [],
      "metadata": {
        "id": "F5wIXVk2nbRy"
      },
      "execution_count": null,
      "outputs": []
    }
  ]
}